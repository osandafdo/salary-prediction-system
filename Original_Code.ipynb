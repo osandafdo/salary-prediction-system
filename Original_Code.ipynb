{
 "cells": [
  {
   "cell_type": "code",
   "execution_count": null,
   "id": "c4d31ba1",
   "metadata": {},
   "outputs": [],
   "source": [
    "pip install torch"
   ]
  },
  {
   "cell_type": "code",
   "execution_count": null,
   "id": "d1b26707",
   "metadata": {},
   "outputs": [],
   "source": [
    "# imports\n",
    "import pandas as pd\n",
    "import matplotlib.pyplot as plt\n",
    "import torch\n",
    "import torch.nn as nn\n",
    "import numpy as np\n",
    "import torch\n",
    "from datetime import datetime\n",
    "\n",
    "from sklearn.compose import ColumnTransformer\n",
    "from sklearn.discriminant_analysis import StandardScaler\n",
    "from sklearn.model_selection import train_test_split\n",
    "from sklearn.preprocessing import OneHotEncoder\n",
    "from sklearn.metrics import accuracy_score, mean_squared_error\n"
   ]
  },
  {
   "cell_type": "code",
   "execution_count": null,
   "id": "80007f62",
   "metadata": {},
   "outputs": [],
   "source": [
    "# Load data\n",
    "df = pd.read_csv('software_engineer_salaries.csv')\n",
    "# df['target'] = df[\"SalaryUSD\"]\n",
    "df.head()  "
   ]
  },
  {
   "cell_type": "markdown",
   "id": "5fc418e5",
   "metadata": {},
   "source": [
    "### Question 1: Datasets and EDA\n",
    "    ## a.Dataset Preparation\n",
    "        # i.Collect, preprocess, and prepare a dataset for the custom task."
   ]
  },
  {
   "cell_type": "code",
   "execution_count": null,
   "id": "8727bee2",
   "metadata": {},
   "outputs": [],
   "source": [
    "from sklearn.compose import ColumnTransformer\n",
    "from sklearn.discriminant_analysis import StandardScaler\n",
    "from sklearn.model_selection import train_test_split\n",
    "from sklearn.preprocessing import OneHotEncoder\n",
    "\n",
    "\n",
    "all_benefits = df[\"AdditionalBenefits\"].dropna().apply(lambda x: [b.strip() for b in str(x).split(\";\")])\n",
    "benefits_array = [item for sublist in all_benefits for item in sublist]\n",
    "unique_benefits = list(set(benefits_array))\n",
    "\n",
    "# Feature engineering: Extract key benefits as binary flags\n",
    "for benefit in unique_benefits:\n",
    "    df[benefit] = df[\"AdditionalBenefits\"].apply(lambda x: 1 if benefit in str(x) else 0)\n",
    "\n",
    "# Drop redundant columns\n",
    "df = df.drop(columns=[\"AdditionalBenefits\"])\n",
    "\n",
    "# Preprocessing pipeline\n",
    "# Categorical features will be one-hot encoded\n",
    "# Numerical features will be scaled\n",
    "# This is necessary for the ANN to work properly\n",
    "categorical_columns = ['Gender', 'RemoteOnsite', 'Industry', 'Education', 'Location', 'JobTitle']\n",
    "numerical_columns = ['ExperienceYears', 'Certifications', 'PreviousCompanies', 'Age', 'CompanySize', 'SalaryUSD']\n",
    "\n",
    "# --------------------------\n",
    "# 3. Encode categorical variables\n",
    "# --------------------------\n",
    "df = pd.get_dummies(df, columns=categorical_columns, drop_first=False)\n",
    "\n",
    "# --------------------------\n",
    "# 4. Scale numeric features\n",
    "# --------------------------\n",
    "scaler = StandardScaler()\n",
    "df[numerical_columns] = scaler.fit_transform(df[numerical_columns])\n",
    "\n",
    "# --------------------------\n",
    "# 5. Separate features and target\n",
    "# --------------------------\n",
    "X = df.drop(columns=[\"SalaryUSD\"])   # Features except the salary (target variable)\n",
    "y = df[\"SalaryUSD\"]                  # Target (regression)\n",
    "\n",
    "# print(\"Processed feature shape:\", X.shape)\n",
    "print(\"Sample features:\\n\", X.head().transpose())\n",
    "print(\"Sample target:\\n\", y.head().transpose())\n"
   ]
  },
  {
   "cell_type": "markdown",
   "id": "61cc0bb6",
   "metadata": {},
   "source": [
    "        # ii.Describe the nature and characteristics of the collected datasets and provide a comprehensive EDA of the dataset."
   ]
  },
  {
   "cell_type": "code",
   "execution_count": null,
   "id": "1bc98699",
   "metadata": {},
   "outputs": [],
   "source": [
    "# statistics for numerical columns\n",
    "num_summary = df[['SalaryUSD']].describe().transpose()\n",
    "print(num_summary)"
   ]
  },
  {
   "cell_type": "code",
   "execution_count": null,
   "id": "ec956207",
   "metadata": {},
   "outputs": [],
   "source": [
    "# Check for missing values\n",
    "null_columns = df.isnull().sum()\n",
    "print(null_columns)"
   ]
  },
  {
   "cell_type": "code",
   "execution_count": null,
   "id": "a0949c8e",
   "metadata": {},
   "outputs": [],
   "source": [
    "# Correlation matrix for numerical features\n",
    "correlation_matrix = df.corr(numeric_only=True)\n",
    "print(\"Correlation matrix:\\n\", correlation_matrix)"
   ]
  },
  {
   "cell_type": "code",
   "execution_count": null,
   "id": "e89f9010",
   "metadata": {},
   "outputs": [],
   "source": [
    "# Plot distributions for key numerical features\n",
    "fig, axes = plt.subplots(2, 3, figsize=(16, 8))\n",
    "axes = axes.ravel()\n",
    "for i, col in enumerate([\"SalaryUSD\", \"ExperienceYears\", \"Certifications\", \"PreviousCompanies\", \"Age\", \"CompanySize\"]):\n",
    "    df[col].hist(bins=30, ax=axes[i])\n",
    "    axes[i].set_title(f\"Distribution of {col}\")\n",
    "plt.tight_layout()\n",
    "plt.show()"
   ]
  },
  {
   "cell_type": "markdown",
   "id": "1a2ba936",
   "metadata": {},
   "source": [
    "### Question 2: Solution Design\n",
    "    ## a.Design and architect a suitable artificial neural network for your chosen problem.\n",
    "    "
   ]
  },
  {
   "cell_type": "code",
   "execution_count": null,
   "id": "8d466d3f",
   "metadata": {},
   "outputs": [],
   "source": [
    "# Split the dataset\n",
    "\n",
    "# First split: Train (80%) and Test (20%)\n",
    "X_train_full, X_test, y_train_full, y_test = train_test_split(\n",
    "    X, y, test_size=0.2, random_state=42\n",
    ")\n",
    "\n",
    "# Second split: From Train, split into Train (60%) and Validation (20%)\n",
    "X_train, X_val, y_train, y_val = train_test_split(\n",
    "    X_train_full, y_train_full, test_size=0.25, random_state=42\n",
    ")"
   ]
  },
  {
   "cell_type": "code",
   "execution_count": null,
   "id": "934e2be6",
   "metadata": {},
   "outputs": [],
   "source": [
    "# Convert all boolean columns to integers (1 for True, 0 for False)\n",
    "X_train = X_train.astype(float)\n",
    "y_train = y_train.astype(float)\n",
    "\n",
    "X_test = X_test.astype(float)\n",
    "y_test = y_test.astype(float)\n",
    "\n",
    "X_val = X_val.astype(float)\n",
    "y_val = y_val.astype(float)\n",
    "\n",
    "# Now create PyTorch tensors\n",
    "X_tr_tensor = torch.tensor(X_train.values, dtype=torch.float32)\n",
    "y_tr_tensor = torch.tensor(y_train.values, dtype=torch.float32).view(-1, 1)\n",
    "\n",
    "X_te_tensor = torch.tensor(X_test.values, dtype=torch.float32)\n",
    "y_te_tensor = torch.tensor(y_test.values, dtype=torch.float32).view(-1, 1)\n",
    "\n",
    "X_val_tensor = torch.tensor(X_val.values, dtype=torch.float32)\n",
    "y_val_tensor = torch.tensor(y_val.values, dtype=torch.float32).view(-1, 1)\n",
    "\n",
    "print(\"Train set shape:\", X_tr_tensor.shape, y_tr_tensor.shape)\n",
    "print(\"Test set shape:\", X_te_tensor.shape, y_te_tensor.shape)\n",
    "print(\"Validation set shape:\", X_val_tensor.shape, y_val_tensor.shape)\n",
    "\n",
    "print(y_train.head().transpose())\n"
   ]
  },
  {
   "cell_type": "markdown",
   "id": "7db503fa",
   "metadata": {},
   "source": [
    "#### Define the Neural Network Model"
   ]
  },
  {
   "cell_type": "code",
   "execution_count": 202,
   "id": "32cff666",
   "metadata": {},
   "outputs": [],
   "source": [
    "class FullyConnectedNeuralNetwork(nn.Module):\n",
    "    def __init__(self, input_size):\n",
    "        super().__init__()\n",
    "\n",
    "        #First Layer\n",
    "        self.layer_1 = nn.Linear(input_size, 128)     # Input layer to 128 neurons\n",
    "        self.activation_1 = nn.ReLU()       # ReLU activation function\n",
    "\n",
    "        # Second Layer\n",
    "        self.layer_2 = nn.Linear(128, 64)    # 128 neurons to 64 neurons\n",
    "        self.activation_2 = nn.ReLU()       # Another ReLU\n",
    "\n",
    "        # Second Layer\n",
    "        self.layer_3 = nn.Linear(64, 32)    # 64 neurons to 32 neurons\n",
    "        self.activation_3 = nn.ReLU()       # Another ReLU\n",
    "\n",
    "         # Third and the final Layer\n",
    "        self.layer_4 = nn.Linear(32, 1)     # Output layer to 1 neurons (classes)\n",
    "        \n",
    "\n",
    "    def forward(self, x):\n",
    "        x = self.layer_1(x)\n",
    "        x = self.activation_1(x)\n",
    "\n",
    "        x = self.layer_2(x)\n",
    "        x= self.activation_2(x)\n",
    "\n",
    "        x = self.layer_3(x)\n",
    "        x= self.activation_3(x)\n",
    "\n",
    "        x = self.layer_4(x)  # Final layer does not need activation for multi-class classification\n",
    "        return x\n",
    "    "
   ]
  },
  {
   "cell_type": "markdown",
   "id": "626fdd01",
   "metadata": {},
   "source": [
    "#### Define the Train Function"
   ]
  },
  {
   "cell_type": "code",
   "execution_count": 203,
   "id": "c6277801",
   "metadata": {},
   "outputs": [],
   "source": [
    "import math\n",
    "from torch.utils.data import DataLoader, TensorDataset\n",
    "\n",
    "running_loss = 0.0\n",
    "\n",
    "# Define the training function\n",
    "def train(model, device, train_loader, criterion, optimizer, epoch): \n",
    "    global running_loss\n",
    "    model.train()    \n",
    "\n",
    "    for i, (inputs, labels) in enumerate(train_loader):\n",
    "        inputs, labels = inputs.to(device), labels.to(device)\n",
    "        optimizer.zero_grad()\n",
    "        outputs = model(inputs)\n",
    "        loss = criterion(outputs, labels)\n",
    "        loss.backward()\n",
    "        optimizer.step()\n",
    "        running_loss += loss.item()\n",
    "        if (i + 1) % 200 == 0:\n",
    "            print(f'Train Loss: {running_loss / 200:.4f}')\n",
    "            running_loss = 0.0\n"
   ]
  },
  {
   "cell_type": "markdown",
   "id": "05be3d36",
   "metadata": {},
   "source": [
    "#### Define the test function"
   ]
  },
  {
   "cell_type": "code",
   "execution_count": 204,
   "id": "ab18aa0f",
   "metadata": {},
   "outputs": [],
   "source": [
    "def test(model, device, test_loader, criterion):\n",
    "    model.eval()\n",
    "    test_loss = 0.0\n",
    "    all_preds = []\n",
    "    all_labels = []\n",
    "    with torch.no_grad(): # Will disable the gradient calculation\n",
    "        for inputs, labels in test_loader:\n",
    "            inputs, labels = inputs.to(device), labels.to(device)\n",
    "            outputs = model(inputs)\n",
    "            loss = criterion(outputs, labels)\n",
    "            test_loss += loss.item()\n",
    "            all_preds.extend(outputs.argmax(dim=1).cpu().numpy())\n",
    "            all_labels.extend(labels.cpu().numpy())\n",
    "            test_loss_value = test_loss / len(test_loader)\n",
    "    print(f'Test Loss: {test_loss_value:.4f}')\n",
    "    return all_preds, all_labels, test_loss_value"
   ]
  },
  {
   "cell_type": "markdown",
   "id": "2f98c446",
   "metadata": {},
   "source": [
    "#### Define the Validation Function"
   ]
  },
  {
   "cell_type": "code",
   "execution_count": 205,
   "id": "c78fc513",
   "metadata": {},
   "outputs": [],
   "source": [
    "def validate(model, device, val_loader, criterion):\n",
    "    model.eval()\n",
    "    val_loss = 0.0\n",
    "    all_preds = []\n",
    "    all_labels = []\n",
    "    with torch.no_grad(): # Will disable the gradient calculation\n",
    "        for inputs, labels in val_loader:\n",
    "            inputs, labels = inputs.to(device), labels.to(device)\n",
    "            outputs = model(inputs)\n",
    "            loss = criterion(outputs, labels)\n",
    "            val_loss += loss.item()\n",
    "            all_preds.extend(outputs.argmax(dim=1).cpu().numpy())\n",
    "            all_labels.extend(labels.cpu().numpy())\n",
    "            val_loss_cal = val_loss / len(val_loader)\n",
    "    print(f'Validation Loss: {val_loss_cal:.4f}')\n",
    "    return all_preds, all_labels, val_loss_cal"
   ]
  },
  {
   "cell_type": "markdown",
   "id": "bcb96abf",
   "metadata": {},
   "source": [
    "#### Early Stopping"
   ]
  },
  {
   "cell_type": "code",
   "execution_count": null,
   "id": "52fd724f",
   "metadata": {},
   "outputs": [],
   "source": [
    "\n",
    "class EarlyStopping:\n",
    "    \"\"\"Early stops the training if validation loss doesn't improve after a given patience.\"\"\"\n",
    "    def __init__(self, patience=5, delta=0, path=\"optimized_model.pt\"):\n",
    "        \"\"\"\n",
    "        Args:\n",
    "            patience (int): How many epochs to wait after last improvement.\n",
    "            delta (float): Minimum change to qualify as an improvement.\n",
    "            path (str): Where to save the best model.\n",
    "        \"\"\"\n",
    "        self.patience = patience\n",
    "        self.delta = delta\n",
    "        self.path = path\n",
    "        self.counter = 0\n",
    "        self.best_loss = np.Inf\n",
    "        self.early_stop = False\n",
    "        self.best_model_state = None\n",
    "\n",
    "    def __call__(self, val_loss, model):\n",
    "        if val_loss < self.best_loss - self.delta:\n",
    "            self.best_loss = val_loss\n",
    "            self.best_model_state = model.state_dict()\n",
    "            torch.save(model.state_dict(), self.path)  # Save best model\n",
    "            self.counter = 0\n",
    "        else:\n",
    "            self.counter += 1\n",
    "            if self.counter >= self.patience:\n",
    "                self.early_stop = True\n"
   ]
  },
  {
   "cell_type": "markdown",
   "id": "606bcc38",
   "metadata": {},
   "source": [
    "#### Train and Evaluating the Model"
   ]
  },
  {
   "cell_type": "code",
   "execution_count": null,
   "id": "f99f207d",
   "metadata": {},
   "outputs": [],
   "source": [
    "epochs = 100\n",
    "learning_rate = 0.001\n",
    "batch_size = 64\n",
    "\n",
    "# Create train DataLoaders\n",
    "train_dataset = TensorDataset(X_tr_tensor, y_tr_tensor)\n",
    "train_loader = DataLoader(train_dataset, batch_size=batch_size, shuffle=True)\n",
    "\n",
    "# create DataLoader for test set\n",
    "test_dataset = TensorDataset(X_te_tensor, y_te_tensor)\n",
    "test_loader = DataLoader(test_dataset, batch_size=batch_size, shuffle=True)\n",
    "\n",
    "# create DataLoader for test set\n",
    "val_dataset = TensorDataset(X_val_tensor, y_val_tensor)\n",
    "val_loader = DataLoader(val_dataset, batch_size=batch_size, shuffle=True)\n",
    "\n",
    "# Create an instance of the model\n",
    "device = torch.device(\"cuda\" if torch.cuda.is_available() else \"cpu\")\n",
    "print(f\"Running Device: {device}\")\n",
    "model = FullyConnectedNeuralNetwork(X_tr_tensor.shape[1]).to(device)\n",
    "print(model)\n",
    "\n",
    "# Setup loss function and optimizer\n",
    "criterion = nn.MSELoss() # mean squared error\n",
    "optimizer = torch.optim.Adam(model.parameters(), lr=learning_rate)\n",
    "\n",
    "\n",
    "# Track training losses\n",
    "train_losses = []\n",
    "test_losses = []\n",
    "val_losses = []\n",
    "run_epochs = []\n",
    "\n",
    "# Initialize early stopping\n",
    "filename = f\"optimized_model_{datetime.now().strftime('%Y%m%d_%H%M%S')}.pt\"\n",
    "early_stopping = EarlyStopping(patience=10, delta=1e-4, path=filename)\n",
    "\n",
    "# Train the model\n",
    "for epoch in range(1, epochs + 1):\n",
    "\n",
    "    run_epochs.append(epoch)\n",
    "    print(f'Epoch {epoch} - Training Started')\n",
    "\n",
    "    # Train the model\n",
    "    train(model, device, train_loader, criterion, optimizer, epoch)\n",
    "    train_losses.append(running_loss / len(train_loader))\n",
    "\n",
    "    # Test the model\n",
    "    all_preds, all_labels, test_loss = test(model, device, test_loader, criterion)\n",
    "    test_losses.append(test_loss)\n",
    "\n",
    "    # Validate the model\n",
    "    all_preds, all_labels, val_loss = validate(model, device, val_loader, criterion)\n",
    "    val_losses.append(val_loss)\n",
    "\n",
    "    # Check for early stopping\n",
    "    # ---- Check early stopping ----\n",
    "    early_stopping(val_loss, model)\n",
    "\n",
    "    if early_stopping.early_stop:\n",
    "        print(\"Early stopping triggered!\")\n",
    "        break\n",
    "\n",
    "    print(\"-\"*40)"
   ]
  },
  {
   "cell_type": "markdown",
   "id": "df22b266",
   "metadata": {},
   "source": [
    "#### Visualizing Training Progress"
   ]
  },
  {
   "cell_type": "code",
   "execution_count": 208,
   "id": "0e0ff13c",
   "metadata": {},
   "outputs": [
    {
     "data": {
      "image/png": "[encoded data removed]",
      "text/plain": [
       "<Figure size 1000x600 with 1 Axes>"
      ]
     },
     "metadata": {},
     "output_type": "display_data"
    }
   ],
   "source": [
    "# Find the best epoch (minimum validation loss)\n",
    "val_loss_np = np.array(val_losses)\n",
    "best_epoch = run_epochs[val_loss_np.argmin()]\n",
    "best_val_loss = val_loss_np.min()\n",
    "\n",
    "# Plot\n",
    "plt.figure(figsize=(10,6))\n",
    "plt.plot(run_epochs, train_losses, label=\"Train Loss\", marker=\"o\")\n",
    "plt.plot(run_epochs, test_losses, label=\"Test Loss\", marker=\"s\")\n",
    "plt.plot(run_epochs, val_losses, label=\"Validation Loss\", marker=\"^\")\n",
    "\n",
    "# Highlight best epoch\n",
    "plt.scatter(best_epoch, best_val_loss, color=\"red\", s=100, zorder=5, label=\"Best Epoch\")\n",
    "plt.annotate(\n",
    "    f\"Best Epoch {best_epoch}\\nVal Loss={best_val_loss:.4f}\",\n",
    "    (best_epoch, best_val_loss),\n",
    "    xytext=(best_epoch+1, best_val_loss+0.005),\n",
    "    arrowprops=dict(facecolor=\"red\", arrowstyle=\"->\"),\n",
    "    fontsize=10,\n",
    "    bbox=dict(boxstyle=\"round,pad=0.3\", fc=\"white\", ec=\"red\", alpha=0.7)\n",
    ")\n",
    "\n",
    "# Labels and style\n",
    "plt.xlabel(\"Epoch\")\n",
    "plt.ylabel(\"Loss\")\n",
    "plt.title(\"Training, Test, and Validation Loss over Epochs\")\n",
    "plt.legend()\n",
    "plt.grid(True, linestyle=\"--\", alpha=0.6)\n",
    "plt.show()"
   ]
  },
  {
   "cell_type": "markdown",
   "id": "b3b8502d",
   "metadata": {},
   "source": [
    "    ## b.Discuss the different approaches that you considered for solving the chosen problem, and clearly articulate why you selected the specific approach over the alternatives."
   ]
  },
  {
   "cell_type": "code",
   "execution_count": null,
   "id": "b6d46275",
   "metadata": {},
   "outputs": [],
   "source": []
  },
  {
   "cell_type": "markdown",
   "id": "65db88f0",
   "metadata": {},
   "source": [
    "### Question 3: Model Development and Evaluation\n",
    "    ## a.Design and architect a suitable artificial neural network for your chosen problem.\n",
    "    ## b.Discuss the different approaches that you considered for solving the chosen problem, and clearly articulate why you selected the specific approach over the alternatives."
   ]
  },
  {
   "cell_type": "code",
   "execution_count": null,
   "id": "d6ad6b98",
   "metadata": {},
   "outputs": [],
   "source": []
  }
 ],
 "metadata": {
  "kernelspec": {
   "display_name": "base",
   "language": "python",
   "name": "python3"
  },
  "language_info": {
   "codemirror_mode": {
    "name": "ipython",
    "version": 3
   },
   "file_extension": ".py",
   "mimetype": "text/x-python",
   "name": "python",
   "nbconvert_exporter": "python",
   "pygments_lexer": "ipython3",
   "version": "3.12.7"
  }
 },
 "nbformat": 4,
 "nbformat_minor": 5
}
